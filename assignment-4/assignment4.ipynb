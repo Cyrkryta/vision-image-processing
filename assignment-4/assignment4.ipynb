{
 "cells": [
  {
   "cell_type": "code",
   "execution_count": 3,
   "metadata": {},
   "outputs": [],
   "source": [
    "import numpy as np\n",
    "import matplotlib.pyplot as plt\n",
    "import cv2\n",
    "import os\n",
    "import random"
   ]
  },
  {
   "cell_type": "code",
   "execution_count": 27,
   "metadata": {},
   "outputs": [
    {
     "name": "stdout",
     "output_type": "stream",
     "text": [
      "283\n",
      "283\n"
     ]
    }
   ],
   "source": [
    "def load_data(categories=4):\n",
    "    # get random categories\n",
    "    dir_list = []\n",
    "    for dirs in os.listdir(\"caltech-101/101_ObjectCategories/\"):\n",
    "        dir_list.append(os.path.join(\"caltech-101/101_ObjectCategories\", dirs))\n",
    "        \n",
    "    random.Random(5).shuffle(dir_list)      \n",
    "    random_categories = dir_list[:categories] \n",
    "    \n",
    "    data = []\n",
    "    \n",
    "    #get images from each category\n",
    "    for category in random_categories:\n",
    "        # get files in each category\n",
    "        for file in os.listdir(category):\n",
    "            im = cv2.imread(os.path.join(category, file))\n",
    "            gray = cv2.cvtColor(im, cv2.COLOR_BGR2GRAY)\n",
    "            data.append((gray, category.split(\"/\")[-1]))\n",
    "            \n",
    "    # shuffle data and split into train and test\n",
    "    random.Random(4).shuffle(data)\n",
    "    test = data[:int(len(data)/2)]\n",
    "    train = data[int(len(data)/2):]\n",
    "    \n",
    "    return train, test\n",
    "        \n",
    "train, test = load_data()\n",
    "\n",
    "print(len(train))\n",
    "print(len(test))"
   ]
  },
  {
   "cell_type": "code",
   "execution_count": 25,
   "metadata": {},
   "outputs": [],
   "source": [
    "# def load_data(categories=4):\n",
    "#     #get 5 random categories\n",
    "#     dir_list = []\n",
    "#     for dirs in os.listdir(\"caltech-101/101_ObjectCategories/\"):\n",
    "#         dir_list.append(os.path.join(\"caltech-101/101_ObjectCategories\", dirs))\n",
    "        \n",
    "#     random.Random(5).shuffle(dir_list)      \n",
    "#     random_categories = dir_list[:categories] \n",
    "    \n",
    "#     data = {}\n",
    "    \n",
    "#     # get images for each category\n",
    "#     for category in random_categories:\n",
    "#         # get files in each category\n",
    "#         for file in os.listdir(category):\n",
    "#             im = cv2.imread(os.path.join(category, file))\n",
    "#             key = category.split(\"/\")[-1]\n",
    "            \n",
    "#             data[key] = data.get(key, []) + [im]\n",
    "        \n",
    "#     # split into train and test  \n",
    "#     train = {} \n",
    "#     test = {} \n",
    "    \n",
    "#     for key in data.keys():\n",
    "#         random.Random(5).shuffle(data[key])\n",
    "#         train[key] = data[key][:int(len(data[key])/2)]\n",
    "#         test[key] = data[key][int(len(data[key])/2):]\n",
    "    \n",
    "#     return train, test\n",
    "        \n",
    "# train, test = load_data()\n",
    "\n",
    "# print(train.keys())\n",
    "# print(test.keys())\n",
    "# print(len(train['wild_cat']))\n",
    "# print(len(test['wild_cat']))"
   ]
  },
  {
   "cell_type": "code",
   "execution_count": 51,
   "metadata": {},
   "outputs": [
    {
     "name": "stderr",
     "output_type": "stream",
     "text": [
      "/home/jarl/.local/lib/python3.8/site-packages/sklearn/cluster/_kmeans.py:1416: FutureWarning: The default value of `n_init` will change from 10 to 'auto' in 1.4. Set the value of `n_init` explicitly to suppress the warning\n",
      "  super()._check_params_vs_input(X, default_n_init=10)\n"
     ]
    }
   ],
   "source": [
    "from sklearn.cluster import KMeans\n",
    "\n",
    "def extract_features(data):\n",
    "    \n",
    "    features = np.zeros((0, 128))\n",
    "    \n",
    "    for i in range(len(data)):\n",
    "        im = data[i][0]\n",
    "        sift = cv2.SIFT_create()\n",
    "        kp, des = sift.detectAndCompute(im,None)\n",
    "        features = np.vstack((features, des))\n",
    "                \n",
    "    return features\n",
    "\n",
    "def cluster_features(features, k=250):\n",
    "    \n",
    "    kmeans = KMeans(n_clusters=k, random_state=0, n_init=\"auto\").fit(features)\n",
    "    return kmeans.cluster_centers_\n",
    "    \n",
    "features = extract_features(train)\n",
    "clusters = cluster_features(features)"
   ]
  },
  {
   "cell_type": "code",
   "execution_count": 55,
   "metadata": {},
   "outputs": [],
   "source": [
    "def bag_of_words(clusters, data):\n",
    "    # gets bag of words for each image in data\n",
    "    all_bags = []\n",
    "    for i in range(len(data)):\n",
    "        im = data[i][0]\n",
    "        sift = cv2.SIFT_create()\n",
    "        kp, des = sift.detectAndCompute(im,None)\n",
    "        \n",
    "        # get histogram of clusters / bag of words for one image\n",
    "        bag_of_words = np.zeros(len(clusters))\n",
    "        for d in des:\n",
    "            distances = np.linalg.norm(clusters - d, axis=1)\n",
    "            bag_of_words[np.argmin(distances)] += 1\n",
    "        all_bags.append(bag_of_words)\n",
    "        \n",
    "    return all_bags\n",
    "\n",
    "bags = bag_of_words(clusters, train)"
   ]
  },
  {
   "cell_type": "code",
   "execution_count": 64,
   "metadata": {},
   "outputs": [
    {
     "data": {
      "text/plain": [
       "<BarContainer object of 250 artists>"
      ]
     },
     "execution_count": 64,
     "metadata": {},
     "output_type": "execute_result"
    },
    {
     "data": {
      "image/png": "[encoded data removed]",
      "text/plain": [
       "<Figure size 640x480 with 1 Axes>"
      ]
     },
     "metadata": {},
     "output_type": "display_data"
    }
   ],
   "source": [
    "#histogram of bag of words for first image\n",
    "plt.bar(np.arange(0, len(clusters)), bags[0])"
   ]
  },
  {
   "cell_type": "code",
   "execution_count": null,
   "metadata": {},
   "outputs": [],
   "source": []
  }
 ],
 "metadata": {
  "kernelspec": {
   "display_name": "base",
   "language": "python",
   "name": "python3"
  },
  "language_info": {
   "codemirror_mode": {
    "name": "ipython",
    "version": 3
   },
   "file_extension": ".py",
   "mimetype": "text/x-python",
   "name": "python",
   "nbconvert_exporter": "python",
   "pygments_lexer": "ipython3",
   "version": "3.8.16"
  }
 },
 "nbformat": 4,
 "nbformat_minor": 2
}
