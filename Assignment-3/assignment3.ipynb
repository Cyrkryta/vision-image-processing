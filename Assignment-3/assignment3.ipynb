{
 "cells": [
  {
   "cell_type": "code",
   "execution_count": 6,
   "metadata": {},
   "outputs": [],
   "source": [
    "# Import packages\n",
    "from DataAndCodeAssignment3 import ps_utils as ps\n",
    "import matplotlib.pyplot as plt\n",
    "import numpy as np\n",
    "import numpy.linalg as la"
   ]
  },
  {
   "cell_type": "code",
   "execution_count": 9,
   "metadata": {},
   "outputs": [
    {
     "name": "stdout",
     "output_type": "stream",
     "text": [
      "ransac_3dvector(): at trial  0\n",
      "ransac_3dvector(): selected indices =  [1, 0, 2]\n",
      "ransac_3dvector(): estimated model [[ 35.36808802   2.04528462  81.58014676 ... 112.77796533 100.99323884\n",
      "   38.19521914]\n",
      " [ 21.12601552  19.0972221   46.24844154 ... 265.91374968 242.429021\n",
      "  134.90516208]\n",
      " [ 12.67811057   5.91182068  22.44408638 ...  86.29331043  77.30456445\n",
      "   43.12461764]]\n",
      "ransac_3dvector(): number of inliers for this model 86694\n"
     ]
    },
    {
     "ename": "KeyboardInterrupt",
     "evalue": "",
     "output_type": "error",
     "traceback": [
      "\u001b[0;31m---------------------------------------------------------------------------\u001b[0m",
      "\u001b[0;31mKeyboardInterrupt\u001b[0m                         Traceback (most recent call last)",
      "\u001b[1;32m/Users/mlc/Library/CloudStorage/OneDrive-Personal/Københavns_Universitet/7_Semester/Vision_and_Image_Processing/group-assignments/vision-image-processing/Assignment-3/assignment3.ipynb Cell 2\u001b[0m line \u001b[0;36m1\n\u001b[1;32m     <a href='vscode-notebook-cell:/Users/mlc/Library/CloudStorage/OneDrive-Personal/K%C3%B8benhavns_Universitet/7_Semester/Vision_and_Image_Processing/group-assignments/vision-image-processing/Assignment-3/assignment3.ipynb#W1sZmlsZQ%3D%3D?line=12'>13</a>\u001b[0m     J[i,:] \u001b[39m=\u001b[39m Ii[nz]\n\u001b[1;32m     <a href='vscode-notebook-cell:/Users/mlc/Library/CloudStorage/OneDrive-Personal/K%C3%B8benhavns_Universitet/7_Semester/Vision_and_Image_Processing/group-assignments/vision-image-processing/Assignment-3/assignment3.ipynb#W1sZmlsZQ%3D%3D?line=15'>16</a>\u001b[0m \u001b[39m# solve for M = rho*N\u001b[39;00m\n\u001b[1;32m     <a href='vscode-notebook-cell:/Users/mlc/Library/CloudStorage/OneDrive-Personal/K%C3%B8benhavns_Universitet/7_Semester/Vision_and_Image_Processing/group-assignments/vision-image-processing/Assignment-3/assignment3.ipynb#W1sZmlsZQ%3D%3D?line=16'>17</a>\u001b[0m \u001b[39m# iS = la.inv(S)\u001b[39;00m\n\u001b[1;32m     <a href='vscode-notebook-cell:/Users/mlc/Library/CloudStorage/OneDrive-Personal/K%C3%B8benhavns_Universitet/7_Semester/Vision_and_Image_Processing/group-assignments/vision-image-processing/Assignment-3/assignment3.ipynb#W1sZmlsZQ%3D%3D?line=17'>18</a>\u001b[0m \u001b[39m# M = np.dot(iS, J)\u001b[39;00m\n\u001b[0;32m---> <a href='vscode-notebook-cell:/Users/mlc/Library/CloudStorage/OneDrive-Personal/K%C3%B8benhavns_Universitet/7_Semester/Vision_and_Image_Processing/group-assignments/vision-image-processing/Assignment-3/assignment3.ipynb#W1sZmlsZQ%3D%3D?line=18'>19</a>\u001b[0m M \u001b[39m=\u001b[39m ps\u001b[39m.\u001b[39;49mransac_3dvector((J,S), \u001b[39m0.5\u001b[39;49m)\n\u001b[1;32m     <a href='vscode-notebook-cell:/Users/mlc/Library/CloudStorage/OneDrive-Personal/K%C3%B8benhavns_Universitet/7_Semester/Vision_and_Image_Processing/group-assignments/vision-image-processing/Assignment-3/assignment3.ipynb#W1sZmlsZQ%3D%3D?line=20'>21</a>\u001b[0m \u001b[39m# get albedo as norm of M and normalize M\u001b[39;00m\n\u001b[1;32m     <a href='vscode-notebook-cell:/Users/mlc/Library/CloudStorage/OneDrive-Personal/K%C3%B8benhavns_Universitet/7_Semester/Vision_and_Image_Processing/group-assignments/vision-image-processing/Assignment-3/assignment3.ipynb#W1sZmlsZQ%3D%3D?line=21'>22</a>\u001b[0m Rho \u001b[39m=\u001b[39m la\u001b[39m.\u001b[39mnorm(M, axis\u001b[39m=\u001b[39m\u001b[39m0\u001b[39m)\n",
      "File \u001b[0;32m~/Library/CloudStorage/OneDrive-Personal/Københavns_Universitet/7_Semester/Vision_and_Image_Processing/group-assignments/vision-image-processing/Assignment-3/DataAndCodeAssignment3/ps_utils.py:189\u001b[0m, in \u001b[0;36mransac_3dvector\u001b[0;34m(data, threshold, max_data_tries, max_iters, p, det_threshold, verbose)\u001b[0m\n\u001b[1;32m    187\u001b[0m s \u001b[39m=\u001b[39m S[inliers]\n\u001b[1;32m    188\u001b[0m Is \u001b[39m=\u001b[39m I[inliers]\n\u001b[0;32m--> 189\u001b[0m best_m \u001b[39m=\u001b[39m np\u001b[39m.\u001b[39;49mlinalg\u001b[39m.\u001b[39;49mpinv(s) \u001b[39m@\u001b[39m Is\n\u001b[1;32m    190\u001b[0m \u001b[39m# This should match Yvain's version?\u001b[39;00m\n\u001b[1;32m    191\u001b[0m \u001b[39m# best_m = m.copy()\u001b[39;00m\n\u001b[1;32m    192\u001b[0m best_fit \u001b[39m=\u001b[39m np\u001b[39m.\u001b[39mmean(np\u001b[39m.\u001b[39mabs(Is \u001b[39m-\u001b[39m s\u001b[39m@best_m\u001b[39m))\n",
      "File \u001b[0;32m~/miniconda3/envs/vip/lib/python3.12/site-packages/numpy/linalg/linalg.py:1932\u001b[0m, in \u001b[0;36m_pinv_dispatcher\u001b[0;34m(a, rcond, hermitian)\u001b[0m\n\u001b[1;32m   1927\u001b[0m     \u001b[39mreturn\u001b[39;00m count_nonzero(S \u001b[39m>\u001b[39m tol, axis\u001b[39m=\u001b[39m\u001b[39m-\u001b[39m\u001b[39m1\u001b[39m)\n\u001b[1;32m   1930\u001b[0m \u001b[39m# Generalized inverse\u001b[39;00m\n\u001b[0;32m-> 1932\u001b[0m \u001b[39mdef\u001b[39;00m \u001b[39m_pinv_dispatcher\u001b[39m(a, rcond\u001b[39m=\u001b[39m\u001b[39mNone\u001b[39;00m, hermitian\u001b[39m=\u001b[39m\u001b[39mNone\u001b[39;00m):\n\u001b[1;32m   1933\u001b[0m     \u001b[39mreturn\u001b[39;00m (a,)\n\u001b[1;32m   1936\u001b[0m \u001b[39m@array_function_dispatch\u001b[39m(_pinv_dispatcher)\n\u001b[1;32m   1937\u001b[0m \u001b[39mdef\u001b[39;00m \u001b[39mpinv\u001b[39m(a, rcond\u001b[39m=\u001b[39m\u001b[39m1e-15\u001b[39m, hermitian\u001b[39m=\u001b[39m\u001b[39mFalse\u001b[39;00m):\n",
      "\u001b[0;31mKeyboardInterrupt\u001b[0m: "
     ]
    }
   ],
   "source": [
    "# Exercise 1\n",
    "# read Beethoven data\n",
    "I, mask, S = ps.read_data_file('./DataAndCodeAssignment3/Beethoven4.mat')\n",
    "\n",
    "# get indices of non zero pixels in mask\n",
    "nz = np.where(mask > 0)\n",
    "m,n = mask.shape\n",
    "\n",
    "# for each mask pixel, collect image data\n",
    "J = np.zeros((3, len(nz[0])))\n",
    "for i in range(3):\n",
    "    Ii = I[:,:,i]\n",
    "    J[i,:] = Ii[nz]\n",
    "\n",
    "\n",
    "# solve for M = rho*N\n",
    "# iS = la.inv(S)\n",
    "# M = np.dot(iS, J)\n",
    "M = ps.ransac_3dvector((J,S), 0.5)\n",
    "\n",
    "# get albedo as norm of M and normalize M\n",
    "Rho = la.norm(M, axis=0)\n",
    "N = M/np.tile(Rho, (3,1))\n",
    "\n",
    "n1 = np.zeros((m,n))\n",
    "n2 = np.zeros((m,n))\n",
    "n3 = np.ones((m,n))\n",
    "n1[nz] = N[0,:]\n",
    "n2[nz] = N[1,:]\n",
    "n3[nz] = N[2,:]\n",
    "\n",
    "_,(ax1,ax2,ax3) = plt.subplots(1,3)\n",
    "ax1.imshow(n1)\n",
    "ax2.imshow(n2)\n",
    "ax3.imshow(n3)\n",
    "plt.show()\n",
    "\n",
    "z = ps.unbiased_integrate(n1, n2, n3, mask)\n",
    "ps.display_surface(z)"
   ]
  },
  {
   "cell_type": "code",
   "execution_count": null,
   "metadata": {},
   "outputs": [],
   "source": []
  }
 ],
 "metadata": {
  "kernelspec": {
   "display_name": "vip",
   "language": "python",
   "name": "python3"
  },
  "language_info": {
   "codemirror_mode": {
    "name": "ipython",
    "version": 3
   },
   "file_extension": ".py",
   "mimetype": "text/x-python",
   "name": "python",
   "nbconvert_exporter": "python",
   "pygments_lexer": "ipython3",
   "version": "3.12.0"
  }
 },
 "nbformat": 4,
 "nbformat_minor": 2
}
